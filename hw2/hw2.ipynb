{
 "cells": [
  {
   "cell_type": "code",
   "execution_count": 1,
   "id": "032eb75f",
   "metadata": {},
   "outputs": [],
   "source": [
    "# ECE60146 HW2\n",
    "# Zhengxin Jiang\n",
    "# jiang839\n",
    "\n",
    "from PIL import Image\n",
    "import torch\n",
    "import torchvision\n",
    "import torchvision.transforms as tvt\n",
    "from torch.utils.data import DataLoader\n",
    "import matplotlib.pyplot as plt\n",
    "import os\n",
    "import numpy as np\n",
    "import time\n",
    "\n",
    "# Custom dataset class\n",
    "class MyDataset(torch.utils.data.Dataset):\n",
    "    \n",
    "    def __init__(self, root):\n",
    "        super().__init__()\n",
    "        self.root = root\n",
    "        self.fn_list = os.listdir(root)\n",
    "        \n",
    "    def __len__(self):\n",
    "#         return len(self.fn_list)\n",
    "        return 1000\n",
    "    \n",
    "    def __getitem__(self, index):\n",
    "        img = Image.open(os.path.join(self.root, self.fn_list[index%10]))\n",
    "        \n",
    "        tr = tvt.Compose([\n",
    "            tvt.CenterCrop(200),\n",
    "            tvt.ColorJitter(),\n",
    "            tvt.RandomAffine(10),\n",
    "            tvt.ToTensor(),\n",
    "        ])\n",
    "        \n",
    "        ts = tr(img)\n",
    "        \n",
    "        return ts, np.random.randint(10)\n"
   ]
  },
  {
   "cell_type": "code",
   "execution_count": 39,
   "id": "097e4e29",
   "metadata": {},
   "outputs": [],
   "source": [
    "# Task 3.2\n",
    "img1 = Image.open('stop1.jpg')\n",
    "img2 = Image.open('stop2.jpg')\n",
    "\n",
    "img2p = tvt.functional.perspective(img2, [[97,40], [154,29], [141,210], [82,208]], [[95,51], [158,51], [159,200], [96,201]])\n",
    "# img2p.show()\n",
    "\n",
    "img2p.save('./result images/stop.jpg')\n",
    "\n"
   ]
  },
  {
   "cell_type": "code",
   "execution_count": 46,
   "id": "65769184",
   "metadata": {},
   "outputs": [
    {
     "name": "stdout",
     "output_type": "stream",
     "text": [
      "10\n"
     ]
    }
   ],
   "source": [
    "# Task 3.3\n",
    "my_dataset = MyDataset('./data')\n",
    "print(len(my_dataset))\n",
    "\n",
    "for i in range(3):\n",
    "    torchvision.utils.save_image(my_dataset[i][0], './result images/'+str(i)+'.jpg')\n",
    "    "
   ]
  },
  {
   "cell_type": "code",
   "execution_count": 17,
   "id": "75487b18",
   "metadata": {},
   "outputs": [
    {
     "name": "stdout",
     "output_type": "stream",
     "text": [
      "1.8453538417816162\n"
     ]
    }
   ],
   "source": [
    "# Task 3.4\n",
    "\n",
    "md = MyDataset('./data')\n",
    "data = []\n",
    "\n",
    "start = time.time()\n",
    "for i in range(1000):\n",
    "    idx = np.random.randint(10)\n",
    "    data.append(md[idx])\n",
    "    \n",
    "end  = time.time()\n",
    "\n",
    "print(end-start)\n",
    "\n",
    "    "
   ]
  },
  {
   "cell_type": "code",
   "execution_count": 25,
   "id": "fcd8dbcd",
   "metadata": {},
   "outputs": [
    {
     "name": "stdout",
     "output_type": "stream",
     "text": [
      "1.945967435836792\n"
     ]
    }
   ],
   "source": [
    "md = MyDataset('./data')\n",
    "md_loader = DataLoader(md, batch_size=4, num_workers=0)\n",
    "\n",
    "start = time.time()\n",
    "for batch, labels in md_loader:  \n",
    "#     for i in range(4):\n",
    "#         torchvision.utils.save_image(batch[i], './result images/'+str(i)+'b.jpg')\n",
    "        \n",
    "    continue\n",
    "end  = time.time()\n",
    "print(end-start)"
   ]
  },
  {
   "cell_type": "code",
   "execution_count": null,
   "id": "1c2ab6ab",
   "metadata": {},
   "outputs": [],
   "source": []
  }
 ],
 "metadata": {
  "kernelspec": {
   "display_name": "ece601",
   "language": "python",
   "name": "ece601"
  },
  "language_info": {
   "codemirror_mode": {
    "name": "ipython",
    "version": 3
   },
   "file_extension": ".py",
   "mimetype": "text/x-python",
   "name": "python",
   "nbconvert_exporter": "python",
   "pygments_lexer": "ipython3",
   "version": "3.8.16"
  }
 },
 "nbformat": 4,
 "nbformat_minor": 5
}
