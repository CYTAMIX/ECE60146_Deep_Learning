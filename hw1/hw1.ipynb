{
 "cells": [
  {
   "cell_type": "code",
   "execution_count": 53,
   "id": "cfbc4749",
   "metadata": {},
   "outputs": [],
   "source": [
    "# ECE60146 HW1\n",
    "# Zhengxin Jiang\n",
    "# jiang839\n",
    "\n",
    "class Sequence(object):\n",
    "    def __init__(self, array):\n",
    "        self.array = array\n",
    "\n",
    "    def __iter__(self):\n",
    "        self.idx = -1\n",
    "        return self\n",
    "    \n",
    "    def __next__(self):\n",
    "        self.idx += 1\n",
    "        \n",
    "        if self.idx<len(self.array):   \n",
    "            return self.array[self.idx]\n",
    "        else:\n",
    "            raise StopIteration\n",
    "            \n",
    "    def __len__(self):\n",
    "         return len(self.array)\n",
    "        \n",
    "    def __gt__(self, other):\n",
    "        # check if two objects have the same length\n",
    "        if len(self.array) != len(other.array):\n",
    "            raise ValueError('Two arrays are not equal in length !')\n",
    "        \n",
    "        count = 0\n",
    "        for i in range(len(self.array)):\n",
    "            if self.array[i] > other.array[i]:\n",
    "                count += 1\n",
    "                \n",
    "        return count\n",
    "        \n",
    "\n",
    "# subclass\n",
    "class Fibonacci(Sequence):\n",
    "    \n",
    "    def __init__(self, first_value, second_value):\n",
    "        Sequence.__init__(self, [first_value, second_value])\n",
    "        \n",
    "        \n",
    "    def __call__(self, length): \n",
    "        # init\n",
    "        self.array = self.array[:2]\n",
    "        \n",
    "        if length > 2:\n",
    "            for i in range(2, length):\n",
    "                self.array.append(self.array[i-1]+self.array[i-2])\n",
    "                \n",
    "        print(self.array)\n",
    "            \n",
    "# subclass\n",
    "class Prime(Sequence):\n",
    "    \n",
    "    def __init__(self):\n",
    "        Sequence.__init__(self, [])       \n",
    "    \n",
    "    def __call__(self, length): \n",
    "        # init\n",
    "        self.array = []\n",
    "        \n",
    "        if length == 1:\n",
    "            self.array.append(2)\n",
    "        \n",
    "        if length > 1:\n",
    "            self.array.append(2)\n",
    "            \n",
    "            num = 3\n",
    "            while len(self.array)<length:\n",
    "                is_prime = True\n",
    "\n",
    "                # test if a number is prime\n",
    "                for i in range(2, num):\n",
    "                    if num%i == 0:\n",
    "                        is_prime = False\n",
    "                        break\n",
    "                    \n",
    "                if is_prime:\n",
    "                    self.array.append(num)\n",
    "                    \n",
    "                num += 1\n",
    "\n",
    "        print(self.array)\n",
    "        \n",
    "\n",
    "        "
   ]
  },
  {
   "cell_type": "code",
   "execution_count": 58,
   "id": "5cbef735",
   "metadata": {},
   "outputs": [
    {
     "name": "stdout",
     "output_type": "stream",
     "text": [
      "[3, 5, 8, 13, 21, 34]\n",
      "6\n",
      "[3, 5, 8, 13, 21, 34]\n"
     ]
    }
   ],
   "source": [
    "# Task 1-4\n",
    "FS = Fibonacci(3,5)\n",
    "FS(length = 6)\n",
    "print(len(FS))\n",
    "print([n for n in FS])"
   ]
  },
  {
   "cell_type": "code",
   "execution_count": 59,
   "id": "34041bb1",
   "metadata": {},
   "outputs": [
    {
     "name": "stdout",
     "output_type": "stream",
     "text": [
      "[2, 3, 5, 7, 11, 13, 17, 19, 23, 29]\n",
      "10\n",
      "[2, 3, 5, 7, 11, 13, 17, 19, 23, 29]\n"
     ]
    }
   ],
   "source": [
    "# Task 5\n",
    "PS = Prime()\n",
    "PS(length = 10)\n",
    "print(len(PS))\n",
    "print([n for n in PS])"
   ]
  },
  {
   "cell_type": "code",
   "execution_count": 60,
   "id": "4fed9e60",
   "metadata": {},
   "outputs": [
    {
     "name": "stdout",
     "output_type": "stream",
     "text": [
      "[3, 5, 8, 13, 21, 34, 55, 89]\n",
      "[2, 3, 5, 7, 11, 13, 17, 19]\n",
      "8\n",
      "[2, 3, 5, 7, 11, 13, 17, 19, 23, 29]\n"
     ]
    },
    {
     "ename": "ValueError",
     "evalue": "Two arrays are not equal in length !",
     "output_type": "error",
     "traceback": [
      "\u001b[1;31m---------------------------------------------------------------------------\u001b[0m",
      "\u001b[1;31mValueError\u001b[0m                                Traceback (most recent call last)",
      "\u001b[1;32m~\\AppData\\Local\\Temp/ipykernel_17632/2518583624.py\u001b[0m in \u001b[0;36m<module>\u001b[1;34m\u001b[0m\n\u001b[0;32m      6\u001b[0m \u001b[0mprint\u001b[0m\u001b[1;33m(\u001b[0m\u001b[0mFS\u001b[0m\u001b[1;33m>\u001b[0m\u001b[0mPS\u001b[0m\u001b[1;33m)\u001b[0m\u001b[1;33m\u001b[0m\u001b[1;33m\u001b[0m\u001b[0m\n\u001b[0;32m      7\u001b[0m \u001b[0mPS\u001b[0m\u001b[1;33m(\u001b[0m\u001b[0mlength\u001b[0m \u001b[1;33m=\u001b[0m \u001b[1;36m10\u001b[0m\u001b[1;33m)\u001b[0m\u001b[1;33m\u001b[0m\u001b[1;33m\u001b[0m\u001b[0m\n\u001b[1;32m----> 8\u001b[1;33m \u001b[0mprint\u001b[0m\u001b[1;33m(\u001b[0m\u001b[0mFS\u001b[0m\u001b[1;33m>\u001b[0m\u001b[0mPS\u001b[0m\u001b[1;33m)\u001b[0m\u001b[1;33m\u001b[0m\u001b[1;33m\u001b[0m\u001b[0m\n\u001b[0m",
      "\u001b[1;32m~\\AppData\\Local\\Temp/ipykernel_17632/955248393.py\u001b[0m in \u001b[0;36m__gt__\u001b[1;34m(self, other)\u001b[0m\n\u001b[0;32m     25\u001b[0m         \u001b[1;31m# check if two objects have the same length\u001b[0m\u001b[1;33m\u001b[0m\u001b[1;33m\u001b[0m\u001b[0m\n\u001b[0;32m     26\u001b[0m         \u001b[1;32mif\u001b[0m \u001b[0mlen\u001b[0m\u001b[1;33m(\u001b[0m\u001b[0mself\u001b[0m\u001b[1;33m.\u001b[0m\u001b[0marray\u001b[0m\u001b[1;33m)\u001b[0m \u001b[1;33m!=\u001b[0m \u001b[0mlen\u001b[0m\u001b[1;33m(\u001b[0m\u001b[0mother\u001b[0m\u001b[1;33m.\u001b[0m\u001b[0marray\u001b[0m\u001b[1;33m)\u001b[0m\u001b[1;33m:\u001b[0m\u001b[1;33m\u001b[0m\u001b[1;33m\u001b[0m\u001b[0m\n\u001b[1;32m---> 27\u001b[1;33m             \u001b[1;32mraise\u001b[0m \u001b[0mValueError\u001b[0m\u001b[1;33m(\u001b[0m\u001b[1;34m'Two arrays are not equal in length !'\u001b[0m\u001b[1;33m)\u001b[0m\u001b[1;33m\u001b[0m\u001b[1;33m\u001b[0m\u001b[0m\n\u001b[0m\u001b[0;32m     28\u001b[0m \u001b[1;33m\u001b[0m\u001b[0m\n\u001b[0;32m     29\u001b[0m         \u001b[0mcount\u001b[0m \u001b[1;33m=\u001b[0m \u001b[1;36m0\u001b[0m\u001b[1;33m\u001b[0m\u001b[1;33m\u001b[0m\u001b[0m\n",
      "\u001b[1;31mValueError\u001b[0m: Two arrays are not equal in length !"
     ]
    }
   ],
   "source": [
    "# Task 6\n",
    "FS = Fibonacci(3,5)\n",
    "FS(length = 8)\n",
    "PS = Prime()\n",
    "PS(length = 8)\n",
    "print(FS>PS)\n",
    "PS(length = 10)\n",
    "print(FS>PS)"
   ]
  },
  {
   "cell_type": "code",
   "execution_count": null,
   "id": "92619b5f",
   "metadata": {},
   "outputs": [],
   "source": []
  }
 ],
 "metadata": {
  "kernelspec": {
   "display_name": "Python 3 (ipykernel)",
   "language": "python",
   "name": "python3"
  },
  "language_info": {
   "codemirror_mode": {
    "name": "ipython",
    "version": 3
   },
   "file_extension": ".py",
   "mimetype": "text/x-python",
   "name": "python",
   "nbconvert_exporter": "python",
   "pygments_lexer": "ipython3",
   "version": "3.9.7"
  }
 },
 "nbformat": 4,
 "nbformat_minor": 5
}
