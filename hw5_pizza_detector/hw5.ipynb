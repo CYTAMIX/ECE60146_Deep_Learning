{
 "cells": [
  {
   "cell_type": "code",
   "execution_count": 48,
   "id": "b9d030e4",
   "metadata": {},
   "outputs": [
    {
     "name": "stdout",
     "output_type": "stream",
     "text": [
      "cuda:0\n"
     ]
    }
   ],
   "source": [
    "# ECE60146 HW5\n",
    "# Zhengxin Jiang\n",
    "# jiang839\n",
    "\n",
    "import numpy as np\n",
    "import os\n",
    "import matplotlib.pyplot as plt\n",
    "from PIL import Image\n",
    "from pycocotools.coco import COCO\n",
    "import seaborn as sn \n",
    "import random\n",
    "import json\n",
    "\n",
    "import torch\n",
    "import torch.nn as nn \n",
    "import torch.nn.functional as F \n",
    "import torchvision\n",
    "import torchvision.transforms as tvt\n",
    "from torch.utils.data import DataLoader\n",
    "\n",
    "import cv2\n",
    "\n",
    "\n",
    "device = torch.device(\"cuda:0\" if torch.cuda.is_available() else \"cpu\")\n",
    "print(device)\n",
    "\n",
    "\n",
    "# Function for preparing the training data\n",
    "def prepData(rawDataDir, hwDataDir):\n",
    "    \n",
    "    coco = COCO('{}/annotations/instances_train2014.json'.format(rawDataDir)) \n",
    "    \n",
    "    bbox_list_train = []\n",
    "    bbox_list_val = []\n",
    "    \n",
    "    catIds = coco.getCatIds(catNms=['bus','cat','pizza'])\n",
    "    \n",
    "    for catCount,catId in enumerate(catIds):\n",
    "        \n",
    "        ImgIds = coco.getImgIds(catIds=catId)\n",
    "        random.shuffle(ImgIds)\n",
    "        \n",
    "        imgCount = 0\n",
    "        for imgId in ImgIds:\n",
    "            \n",
    "            coco_img = coco.loadImgs(imgId)[0]\n",
    "            imgName = coco_img['file_name']\n",
    "            img = Image.open(rawDataDir+'/'+imgName)\n",
    "            \n",
    "            annId = coco.getAnnIds(imgIds=coco_img['id'], catIds=catId, iscrowd=None)\n",
    "            ann = coco.loadAnns(annId)[0]\n",
    "            \n",
    "            if ann['area'] < 4000:\n",
    "                continue\n",
    "            \n",
    "            bbox = ann['bbox']\n",
    "            \n",
    "            \n",
    "            resize_ratio = (256/img.size[0], 256/img.size[1])\n",
    "            bbox_resized = np.zeros(4)\n",
    "            bbox_resized[0] = bbox[0]*resize_ratio[0]\n",
    "            bbox_resized[2] = bbox[2]*resize_ratio[0]\n",
    "            bbox_resized[1] = bbox[1]*resize_ratio[1]\n",
    "            bbox_resized[3] = bbox[3]*resize_ratio[1]\n",
    "            bbox_resized[2:] += bbox_resized[:2]        # change the format to [x1, y1, x2, y2]\n",
    "            bbox_resized[2:] -= 1e-3\n",
    "            bbox_resized[:2] += 1e-3                    # let bbox reside in (0,1)\n",
    "            \n",
    "            if img.mode != \"RGB\":\n",
    "                img = img.convert(mode=\"RGB\")\n",
    "            img = img.resize((256, 256), Image.BOX)\n",
    "            \n",
    "            \n",
    "            # Save training and validation images\n",
    "            if imgCount<1400:\n",
    "                \n",
    "                imgNewName = str(catCount*1400+imgCount) + '.jpg'\n",
    "                fp = open('{}/train/{}'.format(hwDataDir, imgNewName), 'w')\n",
    "                img.save(fp)\n",
    "                bbox_list_train.append(bbox_resized)\n",
    "                \n",
    "            elif imgCount<1900:\n",
    "                \n",
    "                imgNewName = str(catCount*500+imgCount-1400) + '.jpg'\n",
    "                fp = open('{}/val/{}'.format(hwDataDir, imgNewName), 'w')\n",
    "                img.save(fp)\n",
    "                bbox_list_val.append(bbox_resized)\n",
    "                \n",
    "            else:\n",
    "                break\n",
    "                \n",
    "            imgCount += 1\n",
    "    \n",
    "    np.save('{}/train/bbox'.format(hwDataDir), bbox_list_train)\n",
    "    np.save('{}/val/bbox'.format(hwDataDir), bbox_list_val)            \n",
    "                \n",
    "    return\n",
    "\n",
    "\n",
    "\n",
    "# The Dataset class for hw5\n",
    "class hwDataset(torch.utils.data.Dataset):\n",
    "    \n",
    "    def __init__(self, root, tasktype):\n",
    "        super().__init__()\n",
    "        \n",
    "        if tasktype == 'training':\n",
    "            self.root = os.path.join(root, 'train').replace(\"\\\\\",\"/\")\n",
    "            self.bbox = np.load(os.path.join(self.root, 'bbox.npy').replace(\"\\\\\",\"/\"))\n",
    "            self.classlen = 1400\n",
    "            \n",
    "        if tasktype == 'validation':\n",
    "            self.root = os.path.join(root, 'val').replace(\"\\\\\",\"/\")\n",
    "            self.bbox = np.load(os.path.join(self.root, 'bbox.npy').replace(\"\\\\\",\"/\"))\n",
    "            self.classlen = 500\n",
    "            \n",
    "        \n",
    "    def __len__(self):\n",
    "        return self.classlen * 3\n",
    "        \n",
    "    def __getitem__(self, index):\n",
    "        name = str(index)+'.jpg'\n",
    "        \n",
    "        img = Image.open(os.path.join(self.root, name).replace(\"\\\\\",\"/\"))\n",
    "        \n",
    "        tr = tvt.Compose([\n",
    "            tvt.ToTensor(),\n",
    "            tvt.Normalize((0.5, 0.5, 0.5), (0.5, 0.5, 0.5))\n",
    "        ])\n",
    "        \n",
    "        img_tensor = tr(img)\n",
    "        \n",
    "        label = index // self.classlen\n",
    "        \n",
    "        bbox_tensor = torch.tensor(self.bbox[index]/256)\n",
    "        \n",
    "        return img_tensor, bbox_tensor.float(), label\n",
    "\n",
    "    \n",
    "# The Resnet block with skip connection \n",
    "class ResnetBlock(nn.Module):\n",
    "    \n",
    "    def __init__(self, in_ch, out_ch):\n",
    "        super(ResnetBlock, self).__init__()\n",
    "        \n",
    "        self.conv = nn.Conv2d(in_ch, out_ch, kernel_size=3, stride=1, padding=1)\n",
    "        self.bn = nn.BatchNorm2d(out_ch)\n",
    "            \n",
    "            \n",
    "    def forward(self, x):\n",
    "        identity = x\n",
    "        \n",
    "        out = F.relu(self.bn(self.conv(x)))\n",
    "        out = self.bn(self.conv(out))\n",
    "        out += identity   #skip connection\n",
    "        out = F.relu(out)\n",
    "        \n",
    "        return out\n",
    "    \n",
    "    \n",
    "class HW5Net(nn.Module):\n",
    "    \n",
    "    def __init__(self, input_nc, ngf=8, n_blocks=4):\n",
    "        super(HW5Net, self).__init__()\n",
    "        \n",
    "        # The first conv layer\n",
    "        model = [nn.ReflectionPad2d(3),\n",
    "                 nn.Conv2d(input_nc, ngf, kernel_size=7, padding=0),\n",
    "                 nn.BatchNorm2d(ngf),\n",
    "                 nn.ReLU(True)]\n",
    "        \n",
    "        # Add downsampling layers\n",
    "        n_downsampling = 5\n",
    "        for i in range(n_downsampling):\n",
    "            mult = 2**i\n",
    "            model += [nn.Conv2d(ngf*mult, ngf*mult*2, kernel_size=3, stride=2, padding=1), \n",
    "                      nn.BatchNorm2d(ngf*mult*2), \n",
    "                      nn.ReLU(True)]\n",
    "    \n",
    "        # My own ResNet blocks\n",
    "        mult = 2**n_downsampling\n",
    "        for i in range(n_blocks):\n",
    "            model += [ResnetBlock(ngf*mult, ngf*mult)]\n",
    "        self.model = nn.Sequential(*model)\n",
    "        \n",
    "        wh = int(256/mult)\n",
    "        # The classification head\n",
    "        class_head = [nn.Flatten(),\n",
    "                      nn.Linear(ngf*mult*wh*wh, 1024),\n",
    "                      nn.ReLU(True),\n",
    "                      nn.Linear(1024, 512), \n",
    "                      nn.ReLU(True),\n",
    "                      nn.Linear(512, 3)]\n",
    "        self.class_head = nn.Sequential(*class_head)\n",
    "        \n",
    "        # The bounding box regression head\n",
    "        bbox_head = [nn.Flatten(),\n",
    "                     nn.Linear(ngf*mult*wh*wh, 1024),\n",
    "                     nn.ReLU(True),\n",
    "                     nn.Linear(1024, 512), \n",
    "                     nn.ReLU(True),\n",
    "                     nn.Linear(512, 4)]\n",
    "        self.bbox_head = nn.Sequential(*bbox_head)\n",
    "        \n",
    "    def forward(self, x):\n",
    "        ft = self.model(x)\n",
    "        cls = self.class_head(ft)\n",
    "        bbox = self.bbox_head(ft)\n",
    "        \n",
    "        return cls, bbox\n",
    "\n",
    "    \n",
    "def drawBBox(imgnum, label, predicted_label, gt, predict):\n",
    "    \n",
    "    gt = gt*256\n",
    "    predict = predict*256\n",
    "    \n",
    "    class_name = ['bus', 'cat', 'pizza']\n",
    "    \n",
    "    img = cv2.imread('D:/coco/hw5/val/{}.jpg'.format(imgnum))\n",
    "    img = cv2.rectangle(img, (int(gt[0]), int(gt[1])), (int(gt[2]), int(gt[3])), (36, 255, 12), 2)\n",
    "    img = cv2.rectangle(img, (int(predict[0]), int(predict[1])), (int(predict[2]), int(predict[3])), (36, 12, 255), 2)\n",
    "    \n",
    "    img = cv2.putText(img, class_name[label], (int(gt[0]), int(gt[1]-10)), cv2.FONT_HERSHEY_SIMPLEX, 0.8, (36, 255, 12), 2)\n",
    "    img = cv2.putText(img, class_name[predicted_label], (int(predict[0]), int(predict[1]-10)), cv2.FONT_HERSHEY_SIMPLEX, 0.8, (36, 12, 255), 2)\n",
    "    \n",
    "    cv2.imwrite('{}.jpg'.format(imgnum), img)\n",
    "    \n",
    "    return img\n",
    "    \n",
    "    "
   ]
  },
  {
   "cell_type": "code",
   "execution_count": 6,
   "id": "c28b1056",
   "metadata": {},
   "outputs": [
    {
     "name": "stdout",
     "output_type": "stream",
     "text": [
      "loading annotations into memory...\n",
      "Done (t=10.70s)\n",
      "creating index...\n",
      "index created!\n"
     ]
    }
   ],
   "source": [
    "rawDataDir = 'D:/coco/train2014'\n",
    "hwDataDir = 'D:/coco/hw5'\n",
    "\n",
    "prepData(rawDataDir, hwDataDir)"
   ]
  },
  {
   "cell_type": "code",
   "execution_count": 3,
   "id": "563303f1",
   "metadata": {},
   "outputs": [],
   "source": [
    "root = 'D:/coco/hw5'\n",
    "\n",
    "traindataset = hwDataset(root, 'training')\n",
    "train_data_loader = DataLoader(traindataset, batch_size=4, num_workers=0, shuffle=True)"
   ]
  },
  {
   "cell_type": "code",
   "execution_count": 33,
   "id": "b1c80edb",
   "metadata": {},
   "outputs": [
    {
     "name": "stdout",
     "output_type": "stream",
     "text": [
      "[ epoch : 1, batch :   100] loss_label : 1.0963\n",
      "[ epoch : 1, batch :   100] loss_reg : 1.0169\n",
      "[ epoch : 1, batch :   200] loss_label : 0.9179\n",
      "[ epoch : 1, batch :   200] loss_reg : 1.0012\n",
      "[ epoch : 1, batch :   300] loss_label : 0.8211\n",
      "[ epoch : 1, batch :   300] loss_reg : 1.0934\n"
     ]
    },
    {
     "ename": "KeyboardInterrupt",
     "evalue": "",
     "output_type": "error",
     "traceback": [
      "\u001b[1;31m---------------------------------------------------------------------------\u001b[0m",
      "\u001b[1;31mKeyboardInterrupt\u001b[0m                         Traceback (most recent call last)",
      "Cell \u001b[1;32mIn[33], line 29\u001b[0m\n\u001b[0;32m     27\u001b[0m \u001b[38;5;66;03m#         loss_regression = criterion2(outputs[1], bbox_gt)\u001b[39;00m\n\u001b[0;32m     28\u001b[0m         loss_regression \u001b[38;5;241m=\u001b[39m torchvision\u001b[38;5;241m.\u001b[39mops\u001b[38;5;241m.\u001b[39mcomplete_box_iou_loss(bbox_gt, outputs[\u001b[38;5;241m1\u001b[39m], reduction\u001b[38;5;241m=\u001b[39m\u001b[38;5;124m'\u001b[39m\u001b[38;5;124mmean\u001b[39m\u001b[38;5;124m'\u001b[39m)\n\u001b[1;32m---> 29\u001b[0m         \u001b[43mloss_regression\u001b[49m\u001b[38;5;241;43m.\u001b[39;49m\u001b[43mbackward\u001b[49m\u001b[43m(\u001b[49m\u001b[43m)\u001b[49m\n\u001b[0;32m     30\u001b[0m         optimizer\u001b[38;5;241m.\u001b[39mstep()\n\u001b[0;32m     32\u001b[0m         running_loss_labeling \u001b[38;5;241m+\u001b[39m\u001b[38;5;241m=\u001b[39m loss_labeling\u001b[38;5;241m.\u001b[39mitem()\n",
      "File \u001b[1;32m~\\anaconda3\\envs\\ece601_3\\lib\\site-packages\\torch\\_tensor.py:396\u001b[0m, in \u001b[0;36mTensor.backward\u001b[1;34m(self, gradient, retain_graph, create_graph, inputs)\u001b[0m\n\u001b[0;32m    387\u001b[0m \u001b[38;5;28;01mif\u001b[39;00m has_torch_function_unary(\u001b[38;5;28mself\u001b[39m):\n\u001b[0;32m    388\u001b[0m     \u001b[38;5;28;01mreturn\u001b[39;00m handle_torch_function(\n\u001b[0;32m    389\u001b[0m         Tensor\u001b[38;5;241m.\u001b[39mbackward,\n\u001b[0;32m    390\u001b[0m         (\u001b[38;5;28mself\u001b[39m,),\n\u001b[1;32m   (...)\u001b[0m\n\u001b[0;32m    394\u001b[0m         create_graph\u001b[38;5;241m=\u001b[39mcreate_graph,\n\u001b[0;32m    395\u001b[0m         inputs\u001b[38;5;241m=\u001b[39minputs)\n\u001b[1;32m--> 396\u001b[0m \u001b[43mtorch\u001b[49m\u001b[38;5;241;43m.\u001b[39;49m\u001b[43mautograd\u001b[49m\u001b[38;5;241;43m.\u001b[39;49m\u001b[43mbackward\u001b[49m\u001b[43m(\u001b[49m\u001b[38;5;28;43mself\u001b[39;49m\u001b[43m,\u001b[49m\u001b[43m \u001b[49m\u001b[43mgradient\u001b[49m\u001b[43m,\u001b[49m\u001b[43m \u001b[49m\u001b[43mretain_graph\u001b[49m\u001b[43m,\u001b[49m\u001b[43m \u001b[49m\u001b[43mcreate_graph\u001b[49m\u001b[43m,\u001b[49m\u001b[43m \u001b[49m\u001b[43minputs\u001b[49m\u001b[38;5;241;43m=\u001b[39;49m\u001b[43minputs\u001b[49m\u001b[43m)\u001b[49m\n",
      "File \u001b[1;32m~\\anaconda3\\envs\\ece601_3\\lib\\site-packages\\torch\\autograd\\__init__.py:173\u001b[0m, in \u001b[0;36mbackward\u001b[1;34m(tensors, grad_tensors, retain_graph, create_graph, grad_variables, inputs)\u001b[0m\n\u001b[0;32m    168\u001b[0m     retain_graph \u001b[38;5;241m=\u001b[39m create_graph\n\u001b[0;32m    170\u001b[0m \u001b[38;5;66;03m# The reason we repeat same the comment below is that\u001b[39;00m\n\u001b[0;32m    171\u001b[0m \u001b[38;5;66;03m# some Python versions print out the first line of a multi-line function\u001b[39;00m\n\u001b[0;32m    172\u001b[0m \u001b[38;5;66;03m# calls in the traceback and some print out the last line\u001b[39;00m\n\u001b[1;32m--> 173\u001b[0m \u001b[43mVariable\u001b[49m\u001b[38;5;241;43m.\u001b[39;49m\u001b[43m_execution_engine\u001b[49m\u001b[38;5;241;43m.\u001b[39;49m\u001b[43mrun_backward\u001b[49m\u001b[43m(\u001b[49m\u001b[43m  \u001b[49m\u001b[38;5;66;43;03m# Calls into the C++ engine to run the backward pass\u001b[39;49;00m\n\u001b[0;32m    174\u001b[0m \u001b[43m    \u001b[49m\u001b[43mtensors\u001b[49m\u001b[43m,\u001b[49m\u001b[43m \u001b[49m\u001b[43mgrad_tensors_\u001b[49m\u001b[43m,\u001b[49m\u001b[43m \u001b[49m\u001b[43mretain_graph\u001b[49m\u001b[43m,\u001b[49m\u001b[43m \u001b[49m\u001b[43mcreate_graph\u001b[49m\u001b[43m,\u001b[49m\u001b[43m \u001b[49m\u001b[43minputs\u001b[49m\u001b[43m,\u001b[49m\n\u001b[0;32m    175\u001b[0m \u001b[43m    \u001b[49m\u001b[43mallow_unreachable\u001b[49m\u001b[38;5;241;43m=\u001b[39;49m\u001b[38;5;28;43;01mTrue\u001b[39;49;00m\u001b[43m,\u001b[49m\u001b[43m \u001b[49m\u001b[43maccumulate_grad\u001b[49m\u001b[38;5;241;43m=\u001b[39;49m\u001b[38;5;28;43;01mTrue\u001b[39;49;00m\u001b[43m)\u001b[49m\n",
      "\u001b[1;31mKeyboardInterrupt\u001b[0m: "
     ]
    }
   ],
   "source": [
    "#### Training\n",
    "\n",
    "net = HW5Net(3)\n",
    "net = net.to(device)\n",
    "\n",
    "criterion1 = torch.nn.CrossEntropyLoss()\n",
    "criterion2 = torch.nn.MSELoss()\n",
    "# optimizer = torch.optim.SGD(net.parameters(), lr=1e-4, momentum=0.9)\n",
    "optimizer = torch.optim.Adam(net.parameters(), lr=1e-4, betas=(0.9, 0.99))\n",
    "\n",
    "for epoch in range(50):\n",
    "    running_loss_labeling = 0.0\n",
    "    running_loss_regression = 0.0\n",
    "    \n",
    "    for i, data in enumerate(train_data_loader):\n",
    "        inputs, bbox_gt, labels = data\n",
    "        \n",
    "        inputs = inputs.to(device)\n",
    "        bbox_gt = bbox_gt.to(device)\n",
    "        labels = labels.to(device)\n",
    "        \n",
    "        optimizer.zero_grad()\n",
    "        outputs = net(inputs)\n",
    "        \n",
    "        loss_labeling = criterion1(outputs[0], labels)\n",
    "        loss_labeling.backward(retain_graph=True)\n",
    "#         loss_regression = criterion2(outputs[1], bbox_gt)\n",
    "        loss_regression = torchvision.ops.complete_box_iou_loss(bbox_gt, outputs[1], reduction='mean')\n",
    "        loss_regression.backward()\n",
    "        optimizer.step()\n",
    "        \n",
    "        running_loss_labeling += loss_labeling.item()\n",
    "        running_loss_regression += loss_regression.item()\n",
    "        \n",
    "        if (i+1) % 100 == 0:\n",
    "            print(\"[ epoch : %d, batch : %5d] loss_label : %.4f\" % (epoch + 1, i + 1, running_loss_labeling / 100))\n",
    "            running_loss_labeling = 0.0\n",
    "            print(\"[ epoch : %d, batch : %5d] loss_reg : %.4f\" % (epoch + 1, i + 1, running_loss_regression / 100))\n",
    "            running_loss_regression = 0.0\n",
    "            \n",
    "    "
   ]
  },
  {
   "cell_type": "code",
   "execution_count": 27,
   "id": "1ba50cc1",
   "metadata": {},
   "outputs": [
    {
     "name": "stdout",
     "output_type": "stream",
     "text": [
      "52\n"
     ]
    }
   ],
   "source": [
    "num_layers = len(list(net.parameters()))\n",
    "print(num_layers)"
   ]
  },
  {
   "cell_type": "code",
   "execution_count": 27,
   "id": "0fce255c",
   "metadata": {},
   "outputs": [],
   "source": [
    "torch.save(net.state_dict(), 'mse.pth')"
   ]
  },
  {
   "cell_type": "code",
   "execution_count": 6,
   "id": "fdede479",
   "metadata": {},
   "outputs": [
    {
     "data": {
      "text/plain": [
       "<All keys matched successfully>"
      ]
     },
     "execution_count": 6,
     "metadata": {},
     "output_type": "execute_result"
    }
   ],
   "source": [
    "net = HW5Net(3)\n",
    "net = net.to(device)\n",
    "# load trained parameters \n",
    "net.load_state_dict(torch.load('mse.pth', map_location=torch.device(device))) \n",
    "\n"
   ]
  },
  {
   "cell_type": "code",
   "execution_count": 17,
   "id": "f6342794",
   "metadata": {},
   "outputs": [],
   "source": [
    "valdataset = hwDataset(root, 'validation')\n",
    "val_data_loader = DataLoader(valdataset, batch_size=5, num_workers=0, shuffle=False)"
   ]
  },
  {
   "cell_type": "code",
   "execution_count": 51,
   "id": "da43bee7",
   "metadata": {},
   "outputs": [
    {
     "name": "stdout",
     "output_type": "stream",
     "text": [
      "0.8926666666666667\n",
      "tensor(0.5870, device='cuda:0')\n"
     ]
    }
   ],
   "source": [
    "# Validation\n",
    "cm = torch.zeros(3,3)\n",
    "true_count = 0\n",
    "total_iouloss = 0\n",
    "\n",
    "# no grad for inference\n",
    "with torch.no_grad():\n",
    "    for i, data in enumerate(val_data_loader):\n",
    "        \n",
    "        inputs, bbox_gt, labels = data\n",
    "        inputs = inputs.to(device)\n",
    "        labels = labels.to(device)\n",
    "        bbox_gt = bbox_gt.to(device)\n",
    "        outputs = net(inputs)\n",
    "        \n",
    "        # The predicted labels\n",
    "        max_vals, predicted_labels = torch.max(outputs[0], 1)\n",
    "        predicted_bbox = outputs[1]\n",
    "        \n",
    "        total_iouloss += torchvision.ops.complete_box_iou_loss(bbox_gt, predicted_bbox, reduction='sum')\n",
    "        \n",
    "        for j in range(len(labels)):\n",
    "            cm[labels[j]][predicted_labels[j]] += 1\n",
    "            if labels[j] == predicted_labels[j]:\n",
    "                true_count += 1\n",
    "        \n",
    "        # save bbox for visualization\n",
    "        if i == 0:\n",
    "            for j in range(3):\n",
    "                img = drawBBox(j, labels[j], predicted_labels[j], bbox_gt[j], predicted_bbox[j])\n",
    "                \n",
    "        if i == 100:\n",
    "            for j in range(3):\n",
    "                img = drawBBox(i*5+j, labels[j], predicted_labels[j], bbox_gt[j], predicted_bbox[j])\n",
    "                \n",
    "        if i == 200:\n",
    "            for j in range(3):\n",
    "                img = drawBBox(i*5+j, labels[j], predicted_labels[j], bbox_gt[j], predicted_bbox[j])\n",
    "            \n",
    "\n",
    "mean_iouloss = total_iouloss/1500\n",
    "acc = true_count/1500\n",
    "print(acc)\n",
    "print(mean_iouloss)"
   ]
  },
  {
   "cell_type": "code",
   "execution_count": 38,
   "id": "0262e5e2",
   "metadata": {},
   "outputs": [
    {
     "data": {
      "text/plain": [
       "<Axes: title={'center': 'Confusion Matrix of Validation (CIoU), acc=0.907, mean IoU=0.565'}>"
      ]
     },
     "execution_count": 38,
     "metadata": {},
     "output_type": "execute_result"
    },
    {
     "data": {
      "image/png": "[encoded data removed]",
      "text/plain": [
       "<Figure size 640x480 with 2 Axes>"
      ]
     },
     "metadata": {},
     "output_type": "display_data"
    }
   ],
   "source": [
    "plt.figure()\n",
    "plt.title(\"Confusion Matrix of Validation (CIoU), acc=%.3f, mean IoU=%.3f\" % (acc, mean_iouloss)) \n",
    "sn.heatmap(cm, annot=True, cmap=\"Blues\",xticklabels=['bus','cat','pizza'], yticklabels=['bus','cat','pizza'])"
   ]
  },
  {
   "cell_type": "code",
   "execution_count": 35,
   "id": "40b770e7",
   "metadata": {},
   "outputs": [
    {
     "data": {
      "text/plain": [
       "<Figure size 640x480 with 0 Axes>"
      ]
     },
     "metadata": {},
     "output_type": "display_data"
    },
    {
     "ename": "ValueError",
     "evalue": "The truth value of an array with more than one element is ambiguous. Use a.any() or a.all()",
     "output_type": "error",
     "traceback": [
      "\u001b[1;31m---------------------------------------------------------------------------\u001b[0m",
      "\u001b[1;31mValueError\u001b[0m                                Traceback (most recent call last)",
      "Cell \u001b[1;32mIn[35], line 2\u001b[0m\n\u001b[0;32m      1\u001b[0m plt\u001b[38;5;241m.\u001b[39mfigure()\n\u001b[1;32m----> 2\u001b[0m \u001b[43mplt\u001b[49m\u001b[38;5;241;43m.\u001b[39;49m\u001b[43mshow\u001b[49m\u001b[43m(\u001b[49m\u001b[43mimg\u001b[49m\u001b[43m)\u001b[49m\n",
      "File \u001b[1;32m~\\anaconda3\\envs\\ece601_3\\lib\\site-packages\\matplotlib\\pyplot.py:445\u001b[0m, in \u001b[0;36mshow\u001b[1;34m(*args, **kwargs)\u001b[0m\n\u001b[0;32m    401\u001b[0m \u001b[38;5;124;03m\"\"\"\u001b[39;00m\n\u001b[0;32m    402\u001b[0m \u001b[38;5;124;03mDisplay all open figures.\u001b[39;00m\n\u001b[0;32m    403\u001b[0m \n\u001b[1;32m   (...)\u001b[0m\n\u001b[0;32m    442\u001b[0m \u001b[38;5;124;03mexplicitly there.\u001b[39;00m\n\u001b[0;32m    443\u001b[0m \u001b[38;5;124;03m\"\"\"\u001b[39;00m\n\u001b[0;32m    444\u001b[0m _warn_if_gui_out_of_main_thread()\n\u001b[1;32m--> 445\u001b[0m \u001b[38;5;28;01mreturn\u001b[39;00m \u001b[43m_get_backend_mod\u001b[49m\u001b[43m(\u001b[49m\u001b[43m)\u001b[49m\u001b[38;5;241;43m.\u001b[39;49m\u001b[43mshow\u001b[49m\u001b[43m(\u001b[49m\u001b[38;5;241;43m*\u001b[39;49m\u001b[43margs\u001b[49m\u001b[43m,\u001b[49m\u001b[43m \u001b[49m\u001b[38;5;241;43m*\u001b[39;49m\u001b[38;5;241;43m*\u001b[39;49m\u001b[43mkwargs\u001b[49m\u001b[43m)\u001b[49m\n",
      "File \u001b[1;32m~\\anaconda3\\envs\\ece601_3\\lib\\site-packages\\matplotlib_inline\\backend_inline.py:98\u001b[0m, in \u001b[0;36mshow\u001b[1;34m(close, block)\u001b[0m\n\u001b[0;32m     95\u001b[0m show\u001b[38;5;241m.\u001b[39m_to_draw \u001b[38;5;241m=\u001b[39m []\n\u001b[0;32m     96\u001b[0m \u001b[38;5;66;03m# only call close('all') if any to close\u001b[39;00m\n\u001b[0;32m     97\u001b[0m \u001b[38;5;66;03m# close triggers gc.collect, which can be slow\u001b[39;00m\n\u001b[1;32m---> 98\u001b[0m \u001b[38;5;28;01mif\u001b[39;00m close \u001b[38;5;129;01mand\u001b[39;00m Gcf\u001b[38;5;241m.\u001b[39mget_all_fig_managers():\n\u001b[0;32m     99\u001b[0m     matplotlib\u001b[38;5;241m.\u001b[39mpyplot\u001b[38;5;241m.\u001b[39mclose(\u001b[38;5;124m'\u001b[39m\u001b[38;5;124mall\u001b[39m\u001b[38;5;124m'\u001b[39m)\n",
      "\u001b[1;31mValueError\u001b[0m: The truth value of an array with more than one element is ambiguous. Use a.any() or a.all()"
     ]
    },
    {
     "data": {
      "text/plain": [
       "<Figure size 640x480 with 0 Axes>"
      ]
     },
     "metadata": {},
     "output_type": "display_data"
    }
   ],
   "source": [
    "plt.figure()\n",
    "plt.show(img)"
   ]
  },
  {
   "cell_type": "code",
   "execution_count": null,
   "id": "4d76337a",
   "metadata": {},
   "outputs": [],
   "source": []
  }
 ],
 "metadata": {
  "kernelspec": {
   "display_name": "ece601_2",
   "language": "python",
   "name": "ece601_2"
  },
  "language_info": {
   "codemirror_mode": {
    "name": "ipython",
    "version": 3
   },
   "file_extension": ".py",
   "mimetype": "text/x-python",
   "name": "python",
   "nbconvert_exporter": "python",
   "pygments_lexer": "ipython3",
   "version": "3.8.16"
  }
 },
 "nbformat": 4,
 "nbformat_minor": 5
}
